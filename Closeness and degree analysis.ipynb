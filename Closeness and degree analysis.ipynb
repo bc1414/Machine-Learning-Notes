{
  "cells": [
    {
      "cell_type": "markdown",
      "metadata": {
        "id": "view-in-github",
        "colab_type": "text"
      },
      "source": [
        "<a href=\"https://colab.research.google.com/github/bc1414/Machine-Learning-Notes/blob/main/Closeness-and-degree-analysis.ipynb\" target=\"_parent\"><img src=\"https://colab.research.google.com/assets/colab-badge.svg\" alt=\"Open In Colab\"/></a>"
      ]
    },
    {
      "cell_type": "code",
      "execution_count": null,
      "id": "9964f6f4",
      "metadata": {
        "id": "9964f6f4"
      },
      "outputs": [],
      "source": [
        "\"\"\"\n",
        "\n",
        "Measures the correlation between degree and closness\n",
        "\n",
        "Based on\n",
        "Linking the Network Centrality Measures：  Closeness and Degree\n",
        "\n",
        "Tim Evans, Bingsheng Chen\n",
        "\n",
        "Implementation and interpreation by Bingsheng Chen(Imperial College London)\n",
        "\n",
        "@author: Bingsheng Chen\n",
        "\"\"\"\n"
      ]
    },
    {
      "cell_type": "code",
      "execution_count": null,
      "id": "a25d7e45",
      "metadata": {
        "id": "a25d7e45"
      },
      "outputs": [],
      "source": [
        "import igraph\n",
        "from igraph import *\n",
        "import networkx as nx\n",
        "import numpy as np\n",
        "import scipy\n",
        "import scipy as sp\n",
        "import scipy.stats\n",
        "import matplotlib as plt\n",
        "import os\n",
        "import pandas as pd\n",
        "from datetime import datetime\n",
        "import matplotlib.pyplot as plt\n",
        "import pandas as pd\n",
        "from sklearn import metrics\n",
        "from uncertainties import ufloat\n",
        "from uncertainties.umath import *\n",
        "from uncertainties import unumpy\n",
        "\n"
      ]
    },
    {
      "cell_type": "code",
      "execution_count": null,
      "id": "9b285f79",
      "metadata": {
        "id": "9b285f79"
      },
      "outputs": [],
      "source": [
        "\n",
        "\n",
        "\n",
        "def farness_and_degree(G):\n",
        "  '''\n",
        "    Calculate farness (1/closeness) and degree for a graph for all nodes.\n",
        "\n",
        "    Input\n",
        "    -----\n",
        "    G -- a simple, undirected, unweighted graph-tool graph of one component.\n",
        "\n",
        "    Return\n",
        "    -----\n",
        "    k -- degree of nodes.\n",
        "    farness -- inverse closeness of nodes.\n",
        "  '''\n",
        "\n",
        "  c=np.array(G.closeness())\n",
        "  k=np.array(G.degree())\n",
        "  c= c[~np.isnan(c)]\n",
        "  k=k[k>0]\n",
        "  farness=1/c\n",
        "  return k,farness\n",
        "\n",
        "\n",
        "\n",
        "def std_for_farness(farness,k):\n",
        "  '''\n",
        "  Bin nodes of same degree for calculating\n",
        "  average farness and standard deviation of farness. Those values\n",
        "  are important for goodness of fit test. Ignore degrees with only\n",
        "  one farness value.\n",
        "\n",
        "  NOTE:- this is the standard deviation for each value of farness based\n",
        "  on all the other farness values at teh same degree.  It is an estimate of the\n",
        "  error in a single measurement of farness so it makes sense to return\n",
        "  this array which will contain the value whenever the degree is the same.\n",
        "  That is if k[i]=k[j] then std_for_farness[i]=std_for_farness[j]\n",
        "  The mean farness at each degree is not calculated here.\n",
        "  However if we did calculate the mean farness then we would need to find the\n",
        "  errror in the mean.\n",
        "\n",
        "  Input\n",
        "  ----\n",
        "  farness -- an array of inverse of closeness\n",
        "  k    -- an array of degree\n",
        "\n",
        "\n",
        "  Output\n",
        "  ----\n",
        "  std_farness_k -- an array (length N) of standard deviation of\n",
        "          farness of to every node based on the degree k.\n",
        "  '''\n",
        "  k_list=np.unique(k)\n",
        "  std_farness=np.ones(len(k))\n",
        "  for degree in k_list:\n",
        "      mask=k==degree\n",
        "      std_farness[mask]=np.std(farness[mask])\n",
        "  return std_farness\n",
        "\n",
        "\n",
        "def reduced_chisquared(obs,std,fit,tol=0.001):\n",
        "    '''\n",
        "    Calculate Reduced chi-squared statistics.\n",
        "\n",
        "    See Numerical Recipes section 15.1.1 Chi-Square Fitting, equation 15.1.6\n",
        "    http://numerical.recipes/book/book.html\n",
        "\n",
        "    Assumes there are two constraints so that the number of degrees of freedom\n",
        "    is two less than the number of observations used (those where std>tol)\n",
        "\n",
        "    Input\n",
        "    ----\n",
        "    obs -- an array of observed data, here it means measured\n",
        "        farness from the Graph\n",
        "    std -- an array of standard deviation of farness for each\n",
        "        observed farness\n",
        "    fit -- an array of predicted result from the model.\n",
        "    tol=0.001 -- tolerance, only include terms where std is greater than tol\n",
        "\n",
        "    Output\n",
        "    ----\n",
        "    rc -- reduced chi-squre statistics.\n",
        "    '''\n",
        "    # TSE x**2 is likely to be slow. Better to write x*x if you can\n",
        "    chi_square=np.sum(((obs[std>tol]-fit[std>tol])/std[std>tol])**2)\n",
        "    rc=chi_square/(len(obs[std>tol])-2) #first order fit N-1-1, i.e. two constraints\n",
        "    return rc\n",
        "\n",
        "\n",
        "def fitting_model(k,farness,std_farness):\n",
        "    '''\n",
        "    Determine the slope and intercept term between inverse closeness and logarithm\n",
        "    of degree using least-square fit.\n",
        "\n",
        "    Input\n",
        "    ----\n",
        "    k            -- an array of degree in the graph\n",
        "    farness      -- an array of inverse closeness\n",
        "    std_farness  -- an array of standard deviation of farness\n",
        "\n",
        "    Output\n",
        "    ----\n",
        "    rc           -- float, reduced chi-squaared statistics\n",
        "    slope        -- float, the slope term\n",
        "    slope_err    -- float, error in finding slope term\n",
        "    beta         -- float, intercept term\n",
        "    beta_err     -- float, error in finding intercept term\n",
        "    '''\n",
        "    lnk=np.log(k)\n",
        "    \"\"\"\n",
        "    Note as we are using raw data not the mean value at each degree value,\n",
        "    there is no obvious need to weight (e.g. by inverse std.dev.)\n",
        "    and the default is to weight each value equally\n",
        "    https://numpy.org/doc/stable/reference/generated/numpy.polyfit.html\n",
        "    \"\"\"\n",
        "    #fitting to farness[i] gives coef[0]*lnk[i] + coef[1]\n",
        "    coef,V=np.polyfit(lnk, farness, 1, cov=True)\n",
        "    fitted_model=np.poly1d(coef)\n",
        "    fitted_farness=fitted_model(lnk)\n",
        "    rc=reduced_chisquared(farness,std_farness,fitted_farness)\n",
        "    slope=coef[0]\n",
        "    beta=coef[1]\n",
        "    slope_err=np.sqrt(V[0][0])\n",
        "    beta_err=np.sqrt(V[1][1])\n",
        "    return rc,slope,slope_err,beta,beta_err\n",
        "\n",
        "\n",
        "\n",
        "\n",
        "\n",
        "def effective_branching_and_beta_t(slope,slope_err,N):\n",
        "  '''\n",
        "  Calculating effective branching number(zbar) from the slope term and also use\n",
        "  the effective branching number to determine the intercept term.\n",
        "\n",
        "  Error evaulation is based on uncertainty package, for more details,\n",
        "  see https://pythonhosted.org/uncertainties/.\n",
        "\n",
        "\n",
        "  Input\n",
        "  ----\n",
        "  slope    -- float, slope term calculating from the inverse closeness and log k.\n",
        "  sloe_err -- float, error term in determining slope.\n",
        "  N        -- float, number of vertices in the network.\n",
        "\n",
        "  Output\n",
        "  ----\n",
        "  slope_u  -- uncertainity float, slope term with error\n",
        "  zbar_u   -- uncertainity float, effective branching number with error\n",
        "  beta_t_u -- uncertainity float, intercept term predict by effective branching\n",
        "\n",
        "\n",
        "  '''\n",
        "  slope_u = ufloat(slope, slope_err)\n",
        "  zbar_u=unumpy.exp(-1/slope_u)\n",
        "  beta_t_u=(1/(zbar_u-1)+unumpy.log(zbar_u-1)/unumpy.log(zbar_u))+unumpy.log(N)/unumpy.log(zbar_u)\n",
        "\n",
        "  return slope_u,zbar_u,beta_t_u\n",
        "\n",
        "def avg_shortest_path_prediction(slope_u,beta_t_u,beta,beta_err,avg_lnk):\n",
        "  '''\n",
        "  Calculate average shortest path in the network using the effective\n",
        "  branching number and intercept term using fitted intercept term\n",
        "  and estimated intercept term using effective branching number.\n",
        "\n",
        "\n",
        "\n",
        "  Input\n",
        "  ----\n",
        "  slope_u  -- uncertainity float, slope\n",
        "  beta_t_u  --  uncertainity float, intercept estimated by effective\n",
        "          branching number\n",
        "  beta    -- float, intercept term\n",
        "  beta_err  -- float error in intercept term\n",
        "  avg_lnk   -- float, average of \\ln k\n",
        "\n",
        "  ----\n",
        "  Output\n",
        "  avg_path_fit_u -- uncerntainty float, avearge shortest path calculated\n",
        "            using fitted intercept term\n",
        "  avg_path_pred_u -- uncertainty float, average shortest path computed\n",
        "            using intercept term predicted by effective\n",
        "            branching number.\n",
        "\n",
        "  '''\n",
        "\n",
        "  beta_u=ufloat(beta,beta_err)\n",
        "  avg_path_fit_u=+slope_u*avg_lnk+beta_u\n",
        "  avg_path_pred_u=avg_lnk*slope_u+beta_t_u\n",
        "  return avg_path_fit_u,avg_path_pred_u\n",
        "\n",
        "\n",
        "\n",
        "\n",
        "def evaluate_closeness_and_degree_relation(G):\n",
        "  '''\n",
        "  Analyze the graph to see if the degree and closeness are correlated.\n",
        "  This can indicate whether the structure behind the\n",
        "  network can be approximated by a shortest-path tree have a finite\n",
        "  braching behavior. The function will automatically extract LCC first\n",
        "  and remove parallel edges and self loop. In addition, the graph\n",
        "  will be converted to undirected.\n",
        "\n",
        "\n",
        "  Input\n",
        "  ----\n",
        "  G     -- a graph-tool graph\n",
        "\n",
        "  ----\n",
        "  Output\n",
        "  Report -- pandas dataframe contains summary about the network\n",
        "\n",
        "  '''\n",
        "  k,farness=farness_and_degree(G)\n",
        "  avg_lnk=np.mean(np.log(k))\n",
        "  N=len(k)\n",
        "  avg_path=np.mean(farness)\n",
        "  std_farness=std_for_farness(farness,k)\n",
        "  rc,slope,slope_err,beta,beta_err=fitting_model(k,farness,std_farness)\n",
        "  slope_u,zbar_u,beta_t_u=effective_branching_and_beta_t(slope,slope_err,N)\n",
        "  beta_u=ufloat(beta,beta_err)\n",
        "  avg_path_fit_u,avg_path_pred_u=avg_shortest_path_prediction(slope_u,beta_t_u,beta,beta_err,avg_lnk)\n",
        "  rho_inv,pvalue=np.corrcoef(np.log(k),farness)[:,1]\n",
        "  rho,p=sp.stats.pearsonr(k,1/farness)\n",
        "  report=(N,np.mean(k),rc,zbar_u,beta_u,beta_t_u,rho,rho_inv,avg_path,avg_path_fit_u,avg_path_pred_u)\n",
        "  return report\n"
      ]
    },
    {
      "cell_type": "code",
      "execution_count": null,
      "id": "3408ab49",
      "metadata": {
        "id": "3408ab49",
        "outputId": "e76648e3-c731-4adb-8cf6-de7a3ecadb60"
      },
      "outputs": [
        {
          "name": "stdout",
          "output_type": "stream",
          "text": [
            "[<igraph.Graph object at 0x00000269D1CC58B0>\n",
            " <igraph.Graph object at 0x00000269D1CC59A0>]\n"
          ]
        }
      ],
      "source": [
        "# Social_Gl=np.load('Social_igraph.npy',allow_pickle=True)\n",
        "# Commun_Gl=np.load('Commun_igraph.npy',allow_pickle=True)\n",
        "# Hpl_Gl=np.load('Hpl_igraph.npy',allow_pickle=True)\n",
        "# Coauth_Gl=np.load('Coauth_igraph.npy',allow_pickle=True)\n",
        "# Citation_Gl=np.load('Citation_igraph.npy',allow_pickle=True)\n",
        "# print(Citation_Gl)\n",
        "# Comb_Gl=np.hstack([Social_Gl,Commun_Gl,Coauth_Gl,Citation_Gl,Hpl_Gl])\n",
        "\n"
      ]
    },
    {
      "cell_type": "code",
      "execution_count": null,
      "id": "3a9927a1",
      "metadata": {
        "id": "3a9927a1",
        "outputId": "bbd9267d-ddb2-4e91-a37e-d05faf50ad8a"
      },
      "outputs": [
        {
          "data": {
            "text/plain": [
              "array([<igraph.Graph object at 0x00000269D1A068B0>,\n",
              "       <igraph.Graph object at 0x00000269D1A06A90>,\n",
              "       <igraph.Graph object at 0x00000269D1A069A0>,\n",
              "       <igraph.Graph object at 0x00000269D1A06B80>,\n",
              "       <igraph.Graph object at 0x00000269D1A06C70>,\n",
              "       <igraph.Graph object at 0x00000269D1A06D60>,\n",
              "       <igraph.Graph object at 0x00000269D1A06E50>,\n",
              "       <igraph.Graph object at 0x00000269D1CC5040>,\n",
              "       <igraph.Graph object at 0x00000269D1CC5130>,\n",
              "       <igraph.Graph object at 0x00000269D1CC5220>,\n",
              "       <igraph.Graph object at 0x00000269D1CC5310>,\n",
              "       <igraph.Graph object at 0x00000269D1CC55E0>,\n",
              "       <igraph.Graph object at 0x00000269D1CC56D0>,\n",
              "       <igraph.Graph object at 0x00000269D1CC57C0>,\n",
              "       <igraph.Graph object at 0x00000269D1CC58B0>,\n",
              "       <igraph.Graph object at 0x00000269D1CC59A0>,\n",
              "       <igraph.Graph object at 0x00000269D1CC5400>,\n",
              "       <igraph.Graph object at 0x00000269D1CC54F0>], dtype=object)"
            ]
          },
          "execution_count": 4,
          "metadata": {},
          "output_type": "execute_result"
        }
      ],
      "source": [
        "# Comb_Gl"
      ]
    },
    {
      "cell_type": "code",
      "execution_count": null,
      "id": "6100abd8",
      "metadata": {
        "id": "6100abd8",
        "outputId": "ea500cb9-d6a1-4307-8c6d-681da9da4e45"
      },
      "outputs": [
        {
          "data": {
            "text/plain": [
              "(34,\n",
              " 4.588235294117647,\n",
              " 1.2309594865490001,\n",
              " array(8.805519214156051+/-2.761955155749791, dtype=object),\n",
              " 2.996824805911752+/-0.09528648867777845,\n",
              " 2.693732856465253+/-0.25260254807344207,\n",
              " 0.7715909962817317,\n",
              " -0.7749194336723219,\n",
              " 2.408199643493761,\n",
              " 2.4081996434937603+/-0.12760411446048114,\n",
              " 2.1051076940472617+/-0.1677303199731785)"
            ]
          },
          "execution_count": 5,
          "metadata": {},
          "output_type": "execute_result"
        }
      ],
      "source": [
        "# evaluate_closeness_and_degree_relation(Comb_Gl[0])"
      ]
    },
    {
      "cell_type": "code",
      "execution_count": null,
      "id": "3e7ad2ba",
      "metadata": {
        "scrolled": true,
        "id": "3e7ad2ba",
        "outputId": "d9450050-c5d8-40d7-e057-6a50a5daf393"
      },
      "outputs": [
        {
          "name": "stdout",
          "output_type": "stream",
          "text": [
            "1\n",
            "2\n",
            "3\n",
            "4\n",
            "5\n",
            "6\n",
            "7\n",
            "8\n",
            "9\n",
            "10\n",
            "11\n",
            "12\n",
            "13\n",
            "14\n",
            "15\n",
            "16\n",
            "17\n",
            "18\n"
          ]
        }
      ],
      "source": [
        "def auto_graph_stats(G_list):\n",
        "  df=[]\n",
        "  i=0\n",
        "  for G in G_list:\n",
        "     i+=1\n",
        "     print(i)\n",
        "     report=evaluate_closeness_and_degree_relation(G)\n",
        "     df.append(report)\n",
        "  df = pd.DataFrame(df, columns=[r\" $|V|$ \", r\"<k>\", r\"Reduced $\\chi^2$\",r\"$\\bar{z}$\",r\"$\\hat{\\beta}$\",r\"$\\beta_t$\",r\"$\\rho$\",r\" Improved $\\rho$\",r\"avg path length\",r\"avg path length predicted via fit\",r\"avg path length predicted via $\\bar{z}$\"])\n",
        "  return df\n",
        "df=auto_graph_stats(Comb_Gl)"
      ]
    },
    {
      "cell_type": "code",
      "execution_count": null,
      "id": "2f0199c6",
      "metadata": {
        "id": "2f0199c6",
        "outputId": "5bc248cc-bd51-45c4-948a-2f870145418a"
      },
      "outputs": [
        {
          "data": {
            "text/plain": [
              "0        34\n",
              "1       198\n",
              "2      2539\n",
              "3      1788\n",
              "4        70\n",
              "5       217\n",
              "6      1133\n",
              "7      1893\n",
              "8       986\n",
              "9      1833\n",
              "10    29652\n",
              "11    14845\n",
              "12      379\n",
              "13     6927\n",
              "14    12494\n",
              "15    23166\n",
              "16     1222\n",
              "17     1222\n",
              "Name:  $|V|$ , dtype: int64"
            ]
          },
          "execution_count": 12,
          "metadata": {},
          "output_type": "execute_result"
        }
      ],
      "source": [
        "df[r\" $|V|$ \"]"
      ]
    },
    {
      "cell_type": "code",
      "execution_count": null,
      "id": "6dd809f5",
      "metadata": {
        "id": "6dd809f5"
      },
      "outputs": [],
      "source": []
    },
    {
      "cell_type": "code",
      "execution_count": null,
      "id": "d5d31108",
      "metadata": {
        "id": "d5d31108"
      },
      "outputs": [],
      "source": []
    },
    {
      "cell_type": "code",
      "execution_count": null,
      "id": "ac9af3b0",
      "metadata": {
        "id": "ac9af3b0"
      },
      "outputs": [],
      "source": []
    }
  ],
  "metadata": {
    "kernelspec": {
      "display_name": "Python 3 (ipykernel)",
      "language": "python",
      "name": "python3"
    },
    "language_info": {
      "codemirror_mode": {
        "name": "ipython",
        "version": 3
      },
      "file_extension": ".py",
      "mimetype": "text/x-python",
      "name": "python",
      "nbconvert_exporter": "python",
      "pygments_lexer": "ipython3",
      "version": "3.8.11"
    },
    "colab": {
      "provenance": [],
      "include_colab_link": true
    }
  },
  "nbformat": 4,
  "nbformat_minor": 5
}
